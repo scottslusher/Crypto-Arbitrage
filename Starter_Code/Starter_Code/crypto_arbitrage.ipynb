{
 "cells": [
  {
   "cell_type": "markdown",
   "source": [
    "## Crypto Arbitrage\n",
    "\n",
    "In this Challenge, you'll take on the role of an analyst at a high-tech investment firm. The vice president (VP) of your department is considering arbitrage opportunities in Bitcoin and other cryptocurrencies. As Bitcoin trades on markets across the globe, can you capitalize on simultaneous price dislocations in those markets by using the powers of Pandas?\n",
    "\n",
    "For this assignment, you’ll sort through historical trade data for Bitcoin on two exchanges: Bitstamp and Coinbase. Your task is to apply the three phases of financial analysis to determine if any arbitrage opportunities exist for Bitcoin.\n",
    "\n",
    "This aspect of the Challenge will consist of 3 phases.\n",
    "\n",
    "1. Collect the data.\n",
    "\n",
    "2. Prepare the data.\n",
    "\n",
    "3. Analyze the data. \n",
    "\n"
   ],
   "metadata": {}
  },
  {
   "cell_type": "markdown",
   "source": [
    "###  Import the required libraries and dependencies."
   ],
   "metadata": {}
  },
  {
   "cell_type": "code",
   "execution_count": null,
   "source": [
    "import pandas as pd\r\n",
    "import numpy as np\r\n",
    "import matplotlib.pyplot as plt\r\n",
    "from pathlib import Path\r\n",
    "%matplotlib inline"
   ],
   "outputs": [],
   "metadata": {}
  },
  {
   "cell_type": "markdown",
   "source": [
    "## Collect the Data\n",
    "\n",
    "To collect the data that you’ll need, complete the following steps:\n",
    "\n",
    "Instructions. \n",
    "\n",
    "1. Using the Pandas `read_csv` function and the `Path` module, import the data from `bitstamp.csv` file, and create a DataFrame called `bitstamp`. Set the DatetimeIndex as the Timestamp column, and be sure to parse and format the dates.\n",
    "\n",
    "2. Use the `head` (and/or the `tail`) function to confirm that Pandas properly imported the data.\n",
    "\n",
    "3. Repeat Steps 1 and 2 for `coinbase.csv` file."
   ],
   "metadata": {}
  },
  {
   "cell_type": "markdown",
   "source": [
    "### Step 1: Using the Pandas `read_csv` function and the `Path` module, import the data from `bitstamp.csv` file, and create a DataFrame called `bitstamp`. Set the DatetimeIndex as the Timestamp column, and be sure to parse and format the dates."
   ],
   "metadata": {}
  },
  {
   "cell_type": "code",
   "execution_count": null,
   "source": [
    "# Read in the CSV file called \"bitstamp.csv\" using the Path module. \r\n",
    "# The CSV file is located in the Resources folder.\r\n",
    "# Set the index to the column \"Date\"\r\n",
    "# Set the parse_dates and infer_datetime_format parameters\r\n",
    "bitstamp = pd.read_csv(\r\n",
    "    Path(\"Resources/bitstamp.csv\"),\r\n",
    "    index_col=\"Timestamp\",\r\n",
    "    infer_datetime_format=True,\r\n",
    "    parse_dates=True\r\n",
    ")"
   ],
   "outputs": [],
   "metadata": {}
  },
  {
   "cell_type": "markdown",
   "source": [
    "### Step 2: Use the `head` (and/or the `tail`) function to confirm that Pandas properly imported the data."
   ],
   "metadata": {}
  },
  {
   "cell_type": "code",
   "execution_count": null,
   "source": [
    "# Use the head (and/or tail) function to confirm that the data was imported properly.\r\n",
    "bitstamp.head()"
   ],
   "outputs": [],
   "metadata": {}
  },
  {
   "cell_type": "markdown",
   "source": [
    "### Step 3: Repeat Steps 1 and 2 for `coinbase.csv` file."
   ],
   "metadata": {}
  },
  {
   "cell_type": "code",
   "execution_count": null,
   "source": [
    "# Read in the CSV file called \"coinbase.csv\" using the Path module. \r\n",
    "# The CSV file is located in the Resources folder.\r\n",
    "# Set the index to the column \"Timestamp\"\r\n",
    "# Set the parse_dates and infer_datetime_format parameters\r\n",
    "coinbase =  pd.read_csv(\r\n",
    "    Path(\"Resources/coinbase.csv\"),\r\n",
    "    index_col=\"Timestamp\",\r\n",
    "    infer_datetime_format=True,\r\n",
    "    parse_dates=True\r\n",
    ")"
   ],
   "outputs": [],
   "metadata": {}
  },
  {
   "cell_type": "code",
   "execution_count": null,
   "source": [
    "# Use the head (and/or tail) function to confirm that the data was imported properly.\r\n",
    "coinbase.tail()"
   ],
   "outputs": [],
   "metadata": {}
  },
  {
   "cell_type": "markdown",
   "source": [
    "## Prepare the Data\n",
    "\n",
    "To prepare and clean your data for analysis, complete the following steps:\n",
    "\n",
    "1. For the bitstamp DataFrame, replace or drop all `NaN`, or missing, values in the DataFrame.\n",
    "\n",
    "2. Use the `str.replace` function to remove the dollar signs ($) from the values in the Close column.\n",
    "\n",
    "3. Convert the data type of the Close column to a `float`.\n",
    "\n",
    "4. Review the data for duplicated values, and drop them if necessary.\n",
    "\n",
    "5. Repeat Steps 1–4 for the coinbase DataFrame."
   ],
   "metadata": {}
  },
  {
   "cell_type": "markdown",
   "source": [
    "### Step 1: For the bitstamp DataFrame, replace or drop all `NaN`, or missing, values in the DataFrame."
   ],
   "metadata": {}
  },
  {
   "cell_type": "code",
   "execution_count": null,
   "source": [
    "# For the bitstamp DataFrame, replace or drop all NaNs or missing values in the DataFrame\r\n",
    "bitstamp.isnull().sum()\r\n",
    "bitstamp = bitstamp.dropna().copy()\r\n",
    "bitstamp.isnull().sum()"
   ],
   "outputs": [],
   "metadata": {}
  },
  {
   "cell_type": "markdown",
   "source": [
    "### Step 2: Use the `str.replace` function to remove the dollar signs ($) from the values in the Close column."
   ],
   "metadata": {}
  },
  {
   "cell_type": "code",
   "execution_count": null,
   "source": [
    "# Use the str.replace function to remove the dollar sign, $\r\n",
    "bitstamp[\"Close\"] = bitstamp[\"Close\"].str.replace(\"$\", \"\")\r\n",
    "bitstamp[\"Close\"]"
   ],
   "outputs": [],
   "metadata": {}
  },
  {
   "cell_type": "markdown",
   "source": [
    "### Step 3: Convert the data type of the Close column to a `float`."
   ],
   "metadata": {}
  },
  {
   "cell_type": "code",
   "execution_count": null,
   "source": [
    "# Convert the Close data type to a float\r\n",
    "\r\n",
    "bitstamp[\"Close\"] = bitstamp[\"Close\"].astype(\"float\")\r\n",
    "bitstamp.dtypes"
   ],
   "outputs": [],
   "metadata": {}
  },
  {
   "cell_type": "markdown",
   "source": [
    "### Step 4: Review the data for duplicated values, and drop them if necessary."
   ],
   "metadata": {}
  },
  {
   "cell_type": "code",
   "execution_count": null,
   "source": [
    "# Review the data for duplicate values, and drop them if necessary\r\n",
    "bitstamp.duplicated().sum()"
   ],
   "outputs": [],
   "metadata": {}
  },
  {
   "cell_type": "markdown",
   "source": [
    "### Step 5: Repeat Steps 1–4 for the coinbase DataFrame."
   ],
   "metadata": {}
  },
  {
   "cell_type": "code",
   "execution_count": null,
   "source": [
    "# Repeat Steps 1–4 for the coinbase DataFrame\r\n",
    "# Step 1 from above. Clean null values by .dropna()\r\n",
    "coinbase = coinbase.dropna().copy()\r\n",
    "\r\n",
    "# Step 2 from above. Use str.replace to replace $ with \"\" in the Close column\r\n",
    "coinbase[\"Close\"] = coinbase[\"Close\"].str.replace(\"$\", \"\")\r\n",
    "\r\n",
    "# Step 3 from above. Convert data type for Close columnt to float\r\n",
    "coinbase[\"Close\"] = coinbase[\"Close\"].astype(\"float\")\r\n",
    "\r\n",
    "# Step 4 from above. Drop any duplicated values if necessary\r\n",
    "coinbase.duplicated().sum()\r\n"
   ],
   "outputs": [],
   "metadata": {}
  },
  {
   "cell_type": "code",
   "execution_count": null,
   "source": [
    "coinbase.head()"
   ],
   "outputs": [],
   "metadata": {}
  },
  {
   "cell_type": "markdown",
   "source": [
    "## Analyze the Data\n",
    "\n",
    "Your analysis consists of the following tasks: \n",
    "\n",
    "1. Choose the columns of data on which to focus your analysis.\n",
    "\n",
    "2. Get the summary statistics and plot the data.\n",
    "\n",
    "3. Focus your analysis on specific dates.\n",
    "\n",
    "4. Calculate the arbitrage profits."
   ],
   "metadata": {}
  },
  {
   "cell_type": "markdown",
   "source": [
    "### Step 1: Choose columns of data on which to focus your analysis.\n",
    "\n",
    "Select the data you want to analyze. Use `loc` or `iloc` to select the following columns of data for both the bitstamp and coinbase DataFrames:\n",
    "\n",
    "* Timestamp (index)\n",
    "\n",
    "* Close\n"
   ],
   "metadata": {}
  },
  {
   "cell_type": "code",
   "execution_count": null,
   "source": [
    "# Use loc or iloc to select `Timestamp (the index)` and `Close` from bitstamp DataFrame\r\n",
    "bitstamp_sliced = bitstamp.iloc[:, [3]]\r\n",
    "\r\n",
    "# Review the first five rows of the DataFrame\r\n",
    "bitstamp_sliced.head()"
   ],
   "outputs": [],
   "metadata": {}
  },
  {
   "cell_type": "code",
   "execution_count": null,
   "source": [
    "# Use loc or iloc to select `Timestamp (the index)` and `Close` from coinbase DataFrame\r\n",
    "coinbase_sliced = coinbase.iloc[:, [3]]\r\n",
    "\r\n",
    "# Review the first five rows of the DataFrame\r\n",
    "coinbase_sliced.head()"
   ],
   "outputs": [],
   "metadata": {}
  },
  {
   "cell_type": "markdown",
   "source": [
    "### Step 2: Get summary statistics and plot the data.\n",
    "\n",
    "Sort through the time series data associated with the bitstamp and coinbase DataFrames to identify potential arbitrage opportunities. To do so, complete the following steps:\n",
    "\n",
    "1. Generate the summary statistics for each DataFrame by using the `describe` function.\n",
    "\n",
    "2. For each DataFrame, create a line plot for the full period of time in the dataset. Be sure to tailor the figure size, title, and color to each visualization.\n",
    "\n",
    "3. In one plot, overlay the visualizations that you created in Step 2 for bitstamp and coinbase. Be sure to adjust the legend and title for this new visualization.\n",
    "\n",
    "4. Using the `loc` and `plot` functions, plot the price action of the assets on each exchange for different dates and times. Your goal is to evaluate how the spread between the two exchanges changed across the time period that the datasets define. Did the degree of spread change as time progressed?"
   ],
   "metadata": {}
  },
  {
   "cell_type": "code",
   "execution_count": null,
   "source": [
    "# Generate the summary statistics for the bitstamp DataFrame\r\n",
    "bitstamp_sliced.describe()"
   ],
   "outputs": [],
   "metadata": {}
  },
  {
   "cell_type": "code",
   "execution_count": null,
   "source": [
    "# Generate the summary statistics for the coinbase DataFrame\r\n",
    "coinbase_sliced.describe()"
   ],
   "outputs": [],
   "metadata": {}
  },
  {
   "cell_type": "code",
   "execution_count": null,
   "source": [
    "# Create a line plot for the bitstamp DataFrame for the full length of time in the dataset \r\n",
    "# Be sure that the figure size, title, and color are tailored to each visualization\r\n",
    "ax = bitstamp_sliced.plot(figsize=(17,7), title=\"Bitstamp Close\", rot=90, color=\"red\", ylabel=\"Price\")\r\n",
    "ax.legend([\"Bitstamp\"])\r\n",
    "ax.grid(True)"
   ],
   "outputs": [],
   "metadata": {}
  },
  {
   "cell_type": "code",
   "execution_count": null,
   "source": [
    "# Create a line plot for the coinbase DataFrame for the full length of time in the dataset \r\n",
    "# Be sure that the figure size, title, and color are tailored to each visualization\r\n",
    "ax = coinbase_sliced.plot(figsize=(17,7), title=\"Coinbase Close\", rot=90, color=\"blue\", ylabel=\"Price\")\r\n",
    "ax.legend([\"Coinbase\"])\r\n",
    "ax.grid(True)"
   ],
   "outputs": [],
   "metadata": {}
  },
  {
   "cell_type": "code",
   "execution_count": null,
   "source": [
    "# Overlay the visualizations for the bitstamp and coinbase DataFrames in one plot\r\n",
    "# The plot should visualize the prices over the full lenth of the dataset\r\n",
    "# Be sure to include the parameters: legend, figure size, title, and color and label\r\n",
    "ax = coinbase_sliced['Close'].plot(figsize=(25,10), rot=90, color=\"blue\", title=\"Coinbase and Bitstamp Close Overlay\",)\r\n",
    "bitstamp_sliced['Close'].plot(color=\"red\", alpha=0.6)\r\n",
    "ax.legend([\"Coinbase\", \"Bitstamp\"])\r\n",
    "ax.grid(True)\r\n",
    "## In order to add a grid format to the visual I needed to assign the initial plot to a variable then call the .legend and .grid to add my customer legend and grid to the visual"
   ],
   "outputs": [],
   "metadata": {}
  },
  {
   "cell_type": "code",
   "execution_count": null,
   "source": [
    "# Using the loc and plot functions, create an overlay plot that visualizes \r\n",
    "# the price action of both DataFrames for a one month period early in the dataset\r\n",
    "# Be sure to include the parameters: legend, figure size, title, and color and label\r\n",
    "\r\n",
    "\r\n",
    "ax = coinbase_sliced['Close'].loc['2018-01-01':'2018-01-31'].plot(figsize=(17,10), rot=90, color=\"blue\", title=\"January: Coinbase and Bitstamp Close Overlay\")\r\n",
    "bitstamp_sliced['Close'].loc['2018-01-01':'2018-01-31'].plot(ax=ax, color=\"red\", alpha=0.6)\r\n",
    "ax.legend(['Coinbase', 'Bitstamp'])\r\n",
    "ax.grid(True)\r\n",
    "## In order to add a grid format to the visual I needed to assign the initial plot to a variable then call the .legend and .grid to add my customer legend and grid to the visual"
   ],
   "outputs": [],
   "metadata": {}
  },
  {
   "cell_type": "code",
   "execution_count": null,
   "source": [
    "# Using the loc and plot functions, create an overlay plot that visualizes \r\n",
    "# the price action of both DataFrames for a one month period later in the dataset\r\n",
    "# Be sure to include the parameters: legend, figure size, title, and color and label \r\n",
    "ax = coinbase_sliced['Close'].loc['2018-02-01':'2018-02-28'].plot(figsize=(17, 10), rot=90, color=\"blue\", title=\"February: Coinbase and Bitstamp Close Overlay\")\r\n",
    "bitstamp_sliced['Close'].loc['2018-02-01':'2018-02-28'].plot(ax=ax, color=\"red\", alpha=0.6)\r\n",
    "ax.legend([\"Coinbase\", \"Bitstamp\"])\r\n",
    "ax.grid(True)\r\n",
    "## In order to add a grid format to the visual I needed to assign the initial plot to a variable then call the .legend and .grid to add my customer legend and grid to the visual"
   ],
   "outputs": [],
   "metadata": {}
  },
  {
   "cell_type": "markdown",
   "source": [
    "**Question** Based on the visualizations of the different time periods, has the degree of spread change as time progressed?\r\n",
    "\r\n",
    "**Answer** Yes, in January of 2018 there were several variances between the close price of Bitstamp and Coinbase. However, once we progress into February of 2018 those spreads begin to tighten up on a more consistent basis."
   ],
   "metadata": {}
  },
  {
   "cell_type": "markdown",
   "source": [
    "### Step 3: Focus Your Analysis on Specific Dates\n",
    "\n",
    "Focus your analysis on specific dates by completing the following steps:\n",
    "\n",
    "1. Select three dates to evaluate for arbitrage profitability. Choose one date that’s early in the dataset, one from the middle of the dataset, and one from the later part of the time period.\n",
    "\n",
    "2. For each of the three dates, generate the summary statistics and then create a box plot. This big-picture view is meant to help you gain a better understanding of the data before you perform your arbitrage calculations. As you compare the data, what conclusions can you draw?"
   ],
   "metadata": {}
  },
  {
   "cell_type": "code",
   "execution_count": null,
   "source": [
    "# Create an overlay plot that visualizes the two dataframes over a period of one day early in the dataset. \r\n",
    "# Be sure that the plots include the parameters `legend`, `figsize`, `title`, `color` and `label` \r\n",
    "\r\n",
    "ax = coinbase_sliced['Close'].loc['2018-01-28':'2018-01-28'].plot(figsize=(17,7), ylabel='Price', rot=90, title=\"1/28/2018: Coinbase and Bitstamp Close Overlay\", color='blue')\r\n",
    "bitstamp_sliced['Close'].loc['2018-01-28':'2018-01-28'].plot(ax=ax, color='red')\r\n",
    "ax.legend(['Coinbase', 'Bitstamp'])\r\n",
    "ax.grid(True)\r\n",
    "## In order to add a grid format to the visual I needed to assign the initial plot to a variable then call the .legend and .grid to add my customer legend and grid to the visual"
   ],
   "outputs": [],
   "metadata": {}
  },
  {
   "cell_type": "code",
   "execution_count": null,
   "source": [
    "# Using the early date that you have selected, calculate the arbitrage spread \r\n",
    "# by subtracting the bitstamp lower closing prices from the coinbase higher closing prices\r\n",
    "arbitrage_spread_early = bitstamp_sliced['Close'].loc['2018-01-28':'2018-01-28'] - coinbase_sliced['Close'].loc['2018-01-28':'2018-01-28']\r\n",
    "\r\n",
    "# Generate summary statistics for the early DataFrame\r\n",
    "display(round(arbitrage_spread_early.sum(),2))\r\n",
    "arbitrage_spread_early.describe()"
   ],
   "outputs": [],
   "metadata": {
    "tags": []
   }
  },
  {
   "cell_type": "code",
   "execution_count": null,
   "source": [
    "# Visualize the arbitrage spread from early in the dataset in a box plot\r\n",
    "arbitrage_spread_early.plot.box(title=\"Early Arbitrage Box Plot\")"
   ],
   "outputs": [],
   "metadata": {}
  },
  {
   "cell_type": "code",
   "execution_count": null,
   "source": [
    "# Create an overlay plot that visualizes the two dataframes over a period of one day from the middle of the dataset. \r\n",
    "# Be sure that the plots include the parameters `legend`, `figsize`, `title`, `color` and `label` \r\n",
    "ax = coinbase_sliced['Close'].loc['2018-02-24':'2018-02-24'].plot(figsize=(17,7), ylabel='Price', rot=90, title=\"2/24/2018: Coinbase and Bitstamp Close Overlay\", color='blue')\r\n",
    "bitstamp_sliced['Close'].loc['2018-02-24':'2018-02-24'].plot(ax=ax, color='red')\r\n",
    "ax.legend(['Coinbase', 'Bitstamp'])\r\n",
    "ax.grid(True)\r\n",
    "## In order to add a grid format to the visual I needed to assign the initial plot to a variable then call the .legend and .grid to add my customer legend and grid to the visual"
   ],
   "outputs": [],
   "metadata": {}
  },
  {
   "cell_type": "code",
   "execution_count": null,
   "source": [
    "# Using the date in the middle that you have selected, calculate the arbitrage spread \r\n",
    "# by subtracting the bitstamp lower closing prices from the coinbase higher closing prices\r\n",
    "arbitrage_spread_middle = coinbase_sliced['Close'].loc['2018-02-24':'2018-02-24'] - bitstamp_sliced['Close'].loc['2018-02-24':'2018-02-24']\r\n",
    "\r\n",
    "# Generate summary statistics \r\n",
    "display(round(arbitrage_spread_middle.sum(),2))\r\n",
    "arbitrage_spread_middle.describe()"
   ],
   "outputs": [],
   "metadata": {}
  },
  {
   "cell_type": "code",
   "execution_count": null,
   "source": [
    "# Visualize the arbitrage spread from the middle of the dataset in a box plot\r\n",
    "arbitrage_spread_middle.plot.box(title=\"Middle Arbitrage Box Plot\")"
   ],
   "outputs": [],
   "metadata": {}
  },
  {
   "cell_type": "code",
   "execution_count": null,
   "source": [
    "# Create an overlay plot that visualizes the two dataframes over a period of one day from late in the dataset. \r\n",
    "# Be sure that the plots include the parameters `legend`, `figsize`, `title`, `color` and `label` \r\n",
    "ax = coinbase_sliced['Close'].loc['2018-03-14':'2018-03-14'].plot(figsize=(17,10), ylabel='Price', alpha=1, rot=90, title=\"3/14/2018: Coinbase and Bitstamp Close Overlay\", color='blue')\r\n",
    "bitstamp_sliced['Close'].loc['2018-03-14':'2018-03-14'].plot(ax=ax, color='red', alpha=0.6)\r\n",
    "ax.legend(['Coinbase', 'Bitstamp'])\r\n",
    "ax.grid(True)\r\n",
    "## In order to add a grid format to the visual I needed to assign the initial plot to a variable then call the .legend and .grid to add my customer legend and grid to the visual\r\n"
   ],
   "outputs": [],
   "metadata": {}
  },
  {
   "cell_type": "code",
   "execution_count": null,
   "source": [
    "# Using the date from the late that you have selected, calculate the arbitrage spread \r\n",
    "# by subtracting the bitstamp lower closing prices from the coinbase higher closing prices\r\n",
    "arbitrage_spread_late = bitstamp_sliced['Close'].loc['2018-03-14':'2018-03-14'] - coinbase_sliced['Close'].loc['2018-03-14':'2018-03-14']\r\n",
    "display(round(arbitrage_spread_late.sum(),2))\r\n",
    "# Generate summary statistics for the late DataFrame\r\n",
    "arbitrage_spread_late.describe()"
   ],
   "outputs": [],
   "metadata": {}
  },
  {
   "cell_type": "code",
   "execution_count": null,
   "source": [
    "# Visualize the arbitrage spread from late in the dataset in a box plot\r\n",
    "arbitrage_spread_late.plot.box(title=\"Late Arbitrage Box Plot\")"
   ],
   "outputs": [],
   "metadata": {}
  },
  {
   "cell_type": "markdown",
   "source": [
    "### Step 4: Calculate the Arbitrage Profits\n",
    "\n",
    "Calculate the potential profits for each date that you selected in the previous section. Your goal is to determine whether arbitrage opportunities still exist in the Bitcoin market. Complete the following steps:\n",
    "\n",
    "1. For each of the three dates, measure the arbitrage spread between the two exchanges by subtracting the lower-priced exchange from the higher-priced one. Then use a conditional statement to generate the summary statistics for each arbitrage_spread DataFrame, where the spread is greater than zero.\n",
    "\n",
    "2. For each of the three dates, calculate the spread returns. To do so, divide the instances that have a positive arbitrage spread (that is, a spread greater than zero) by the price of Bitcoin from the exchange you’re buying on (that is, the lower-priced exchange). Review the resulting DataFrame.\n",
    "\n",
    "3. For each of the three dates, narrow down your trading opportunities even further. To do so, determine the number of times your trades with positive returns exceed the 1% minimum threshold that you need to cover your costs.\n",
    "\n",
    "4. Generate the summary statistics of your spread returns that are greater than 1%. How do the average returns compare among the three dates?\n",
    "\n",
    "5. For each of the three dates, calculate the potential profit, in dollars, per trade. To do so, multiply the spread returns that were greater than 1% by the cost of what was purchased. Make sure to drop any missing values from the resulting DataFrame.\n",
    "\n",
    "6. Generate the summary statistics, and plot the results for each of the three DataFrames.\n",
    "\n",
    "7. Calculate the potential arbitrage profits that you can make on each day. To do so, sum the elements in the profit_per_trade DataFrame.\n",
    "\n",
    "8. Using the `cumsum` function, plot the cumulative sum of each of the three DataFrames. Can you identify any patterns or trends in the profits across the three time periods?\n",
    "\n",
    "(NOTE: The starter code displays only one date. You'll want to do this analysis for two additional dates)."
   ],
   "metadata": {}
  },
  {
   "cell_type": "markdown",
   "source": [
    "#### 1. For each of the three dates, measure the arbitrage spread between the two exchanges by subtracting the lower-priced exchange from the higher-priced one. Then use a conditional statement to generate the summary statistics for each arbitrage_spread DataFrame, where the spread is greater than zero.\n",
    "\n",
    "*NOTE*: For illustration, only one of the three dates is shown in the starter code below."
   ],
   "metadata": {}
  },
  {
   "cell_type": "code",
   "execution_count": null,
   "source": [
    "# For the date early in the dataset, measure the arbitrage spread between the two exchanges\r\n",
    "# by subtracting the lower-priced exchange from the higher-priced one\r\n",
    "arbitrage_spread_early = bitstamp_sliced['Close'].loc['2018-01-28':'2018-01-28'] - coinbase_sliced['Close'].loc['2018-01-28':'2018-01-28']\r\n",
    "\r\n",
    "arbitrage_spread_middle = coinbase_sliced['Close'].loc['2018-02-24':'2018-02-24'] - bitstamp_sliced['Close'].loc['2018-02-24':'2018-02-24']\r\n",
    "\r\n",
    "arbitrage_spread_late = bitstamp_sliced['Close'].loc['2018-03-14':'2018-03-14'] - coinbase_sliced['Close'].loc['2018-03-14':'2018-03-14']\r\n",
    "\r\n",
    "# Use a conditional statement to generate the summary statistics for each arbitrage_spread DataFrame\r\n",
    "display(f'Arbitrage Spread Early:')\r\n",
    "display(arbitrage_spread_early[arbitrage_spread_early > 0].describe())\r\n",
    "display(\"\")\r\n",
    "display('---------------------------')\r\n",
    "display(\"\")\r\n",
    "display(f'Arbitrage Spread middle:')\r\n",
    "display(arbitrage_spread_middle[arbitrage_spread_middle > 0].describe())\r\n",
    "display(\"\")\r\n",
    "display('---------------------------')\r\n",
    "display(\"\")\r\n",
    "display(f'Arbitrage Spread Late:')\r\n",
    "display(arbitrage_spread_late[arbitrage_spread_late > 0].describe())\r\n"
   ],
   "outputs": [],
   "metadata": {}
  },
  {
   "cell_type": "markdown",
   "source": [
    "#### 2. For each of the three dates, calculate the spread returns. To do so, divide the instances that have a positive arbitrage spread (that is, a spread greater than zero) by the price of Bitcoin from the exchange you’re buying on (that is, the lower-priced exchange). Review the resulting DataFrame."
   ],
   "metadata": {}
  },
  {
   "cell_type": "code",
   "execution_count": null,
   "source": [
    "# For the date early in the dataset, calculate the spread returns by dividing the instances when the arbitrage spread is positive (> 0) \r\n",
    "# by the price of Bitcoin from the exchange you are buying on (the lower-priced exchange).\r\n",
    "spread_return_early = arbitrage_spread_early[arbitrage_spread_early > 0] / coinbase_sliced['Close'].loc['2018-01-28':'2018-01-28']\r\n",
    "\r\n",
    "spread_return_middle = arbitrage_spread_middle[arbitrage_spread_middle > 0] / bitstamp_sliced['Close'].loc['2018-02-24':'2018-02-24']\r\n",
    "\r\n",
    "spread_return_late = arbitrage_spread_late[arbitrage_spread_late > 0] / coinbase_sliced['Close'].loc['2018-03-14':'2018-03-14']\r\n",
    "\r\n",
    "# Review the spread return DataFrame\r\n",
    "\r\n",
    "display('Spread Return Early:')\r\n",
    "display(spread_return_early.describe())\r\n",
    "display('')\r\n",
    "display('---------------------------')\r\n",
    "display('')\r\n",
    "display('Spread Return middle:')\r\n",
    "display(spread_return_middle.describe())\r\n",
    "display('')\r\n",
    "display('---------------------------')\r\n",
    "display('')\r\n",
    "display('Spread Return Late:')\r\n",
    "display(spread_return_late.describe())"
   ],
   "outputs": [],
   "metadata": {}
  },
  {
   "cell_type": "markdown",
   "source": [
    "#### 3. For each of the three dates, narrow down your trading opportunities even further. To do so, determine the number of times your trades with positive returns exceed the 1% minimum threshold that you need to cover your costs."
   ],
   "metadata": {}
  },
  {
   "cell_type": "code",
   "execution_count": null,
   "source": [
    "# For the date early in the dataset, determine the number of times your trades with positive returns \r\n",
    "# exceed the 1% minimum threshold (.01) that you need to cover your costs\r\n",
    "profitable_trades_early = spread_return_early[spread_return_early > 0.01]\r\n",
    "\r\n",
    "profitable_trades_middle = spread_return_middle[spread_return_middle > 0.01]\r\n",
    "\r\n",
    "profitable_trades_late = spread_return_late[spread_return_late > 0.01]\r\n",
    "# Review the first five profitable trades\r\n",
    "display('Profitable Trades Early:')\r\n",
    "display(profitable_trades_early.head())\r\n",
    "display('')\r\n",
    "display('---------------------------')\r\n",
    "display('')\r\n",
    "display('Profitable Trades middle:')\r\n",
    "display(profitable_trades_middle.head())\r\n",
    "display('')\r\n",
    "display('---------------------------')\r\n",
    "display('')\r\n",
    "display('Profitable Trades Late:')\r\n",
    "display(profitable_trades_late.head())"
   ],
   "outputs": [],
   "metadata": {}
  },
  {
   "cell_type": "markdown",
   "source": [
    "#### 4. Generate the summary statistics of your spread returns that are greater than 1%. How do the average returns compare among the three dates?"
   ],
   "metadata": {}
  },
  {
   "cell_type": "code",
   "execution_count": null,
   "source": [
    "# For the date early in the dataset, generate the summary statistics for the profitable trades\r\n",
    "# or you trades where the spread returns are are greater than 1%\r\n",
    "display('Profitable Trades Early:')\r\n",
    "display(profitable_trades_early.describe())\r\n",
    "display('')\r\n",
    "display('---------------------------')\r\n",
    "display('')\r\n",
    "display('Profitable Trades middle:')\r\n",
    "display(profitable_trades_middle.describe())\r\n",
    "display('')\r\n",
    "display('---------------------------')\r\n",
    "display('')\r\n",
    "display('Profitable Trades Late:')\r\n",
    "display(profitable_trades_late.describe())"
   ],
   "outputs": [],
   "metadata": {}
  },
  {
   "cell_type": "markdown",
   "source": [
    "#### 5. For each of the three dates, calculate the potential profit, in dollars, per trade. To do so, multiply the spread returns that were greater than 1% by the cost of what was purchased. Make sure to drop any missing values from the resulting DataFrame."
   ],
   "metadata": {}
  },
  {
   "cell_type": "code",
   "execution_count": null,
   "source": [
    "# For the date early in the dataset, calculate the potential profit per trade in dollars \r\n",
    "# Multiply the profitable trades by the cost of the Bitcoin that was purchased\r\n",
    "profit_early = profitable_trades_early * coinbase_sliced['Close'].loc['2018-01-28':'2018-01-28']\r\n",
    "\r\n",
    "# Drop any missing values from the profit DataFrame\r\n",
    "profit_per_trade_early = profit_early.dropna()\r\n",
    "\r\n",
    "# View the early profit DataFrame\r\n",
    "profit_per_trade_early.head()"
   ],
   "outputs": [],
   "metadata": {}
  },
  {
   "cell_type": "code",
   "execution_count": null,
   "source": [
    "# For the date middle of the dataset, calculate the potential profit per trade in dollars \r\n",
    "# Multiply the profitable trades by the cost of the Bitcoin that was purchased\r\n",
    "profit_middle = profitable_trades_middle * bitstamp_sliced['Close'].loc['2018-02-24':'2018-02-24']\r\n",
    "\r\n",
    "# Drop any missing values from the profit DataFrame\r\n",
    "profit_per_trade_middle = profit_middle.dropna()\r\n",
    "\r\n",
    "# View the middle profit DataFrame\r\n",
    "profit_per_trade_middle.head()"
   ],
   "outputs": [],
   "metadata": {}
  },
  {
   "cell_type": "code",
   "execution_count": null,
   "source": [
    "# For the date late in the dataset, calculate the potential profit per trade in dollars \r\n",
    "# Multiply the profitable trades by the cost of the Bitcoin that was purchased\r\n",
    "profit_late = profitable_trades_late * coinbase_sliced['Close'].loc['2018-03-14':'2018-03-14']\r\n",
    "\r\n",
    "# Drop any missing values from the profit DataFrame\r\n",
    "profit_per_trade_late = profit_late.dropna()\r\n",
    "\r\n",
    "# View the late profit DataFrame\r\n",
    "profit_per_trade_late.head()"
   ],
   "outputs": [],
   "metadata": {}
  },
  {
   "cell_type": "markdown",
   "source": [
    "#### 6. Generate the summary statistics, and plot the results for each of the three DataFrames."
   ],
   "metadata": {}
  },
  {
   "cell_type": "code",
   "execution_count": null,
   "source": [
    "# Generate the summary statistics for the early profit per trade DataFrame\r\n",
    "display('Profit Per Trade Early:')\r\n",
    "display(profit_per_trade_early.describe())\r\n",
    "display('')\r\n",
    "display('---------------------------')\r\n",
    "display('')\r\n",
    "display('Profit Per Trade middle:')\r\n",
    "display(profit_per_trade_middle.describe())\r\n",
    "display('')\r\n",
    "display('---------------------------')\r\n",
    "display('')\r\n",
    "display('Profit Per Trade Late:')\r\n",
    "display(profit_per_trade_late.describe())"
   ],
   "outputs": [],
   "metadata": {}
  },
  {
   "cell_type": "code",
   "execution_count": null,
   "source": [
    "# Plot the results for the early profit per trade DataFrame\r\n",
    "# fig, axes = plt.subplots(nrows=3, ncols=1, figsize=(17,10))\r\n",
    "\r\n",
    "# profit_per_trade_early.plot(ax = axes[0], subplots=True, rot=90, title=\"Profit Per Trade\", ylabel='Profit Per Trade')\r\n",
    "\r\n",
    "# profit_per_trade_middle.plot(ax = axes[1], subplots=True, rot=90, title=\"Profit Per Trade\", ylabel='Profit Per Trade')\r\n",
    "\r\n",
    "# profit_per_trade_late.plot(ax = axes[2], subplots=True, rot=90, title=\"Profit Per Trade\", ylabel='Profit Per Trade')\r\n",
    "\r\n",
    "fig, (ax1, ax2, ax3) = plt.subplots(3, figsize=(17,10))\r\n",
    "plt.subplots_adjust(hspace=.4)\r\n",
    "\r\n",
    "ax1.plot(profit_per_trade_early, color='blue')\r\n",
    "\r\n",
    "ax2.plot(profit_per_trade_middle, color='red')\r\n",
    "\r\n",
    "ax3.plot(profit_per_trade_late, color='green')\r\n",
    "\r\n",
    "ax1.legend(['Profits Per Trade Early: 1/28/2018'],loc=\"upper left\")\r\n",
    "ax2.legend(['Profits Per Trade Middle: 2/24/2018'],loc=\"lower left\")\r\n",
    "ax3.legend(['Profits Per Trade Late: 3/14/2018'],loc=\"upper left\")\r\n",
    "\r\n",
    "ax1.set_title('Early Profits Per Trade')\r\n",
    "ax2.set_title('Middle Profits Per Trade')\r\n",
    "ax3.set_title('Late Profits Per Trade')\r\n",
    "\r\n",
    "ax1.grid(True)\r\n",
    "ax2.grid(True)\r\n",
    "ax3.grid(True)\r\n",
    "\r\n",
    "ax1.set_xlabel('TimeStamp (Date MM-dd hh)')\r\n",
    "ax1.set_ylabel('Cumulative Profits $')\r\n",
    "\r\n",
    "ax2.set_xlabel('TimeStamp (Date dd hh:mm)')\r\n",
    "ax2.set_ylabel('Cumulative Profits $')\r\n",
    "\r\n",
    "ax3.set_xlabel('TimeStamp (hh:mm:ss)')\r\n",
    "ax3.set_ylabel('Cumulative Profits $')\r\n",
    "\r\n",
    "## Instead of creating 3 separate outputs I decided to combine all 3 outputs into a singular image that would make it easier (in my opinion) to digest\r\n",
    "## To accomplish this I needed to create a figure with 3 attributes and pass in my variable to those attributes to be plotted\r\n",
    "## Once plotted I could then customize each line graph's grid, xlabel, ylable, title, legend, and color. \r\n",
    "## One thing that I though was cool was the ability to adjust the spacing between graphs using plt.suplots_adjust(hspace=''). This allowed me to customize the labeling with minimal overlay or confusion\r\n"
   ],
   "outputs": [],
   "metadata": {}
  },
  {
   "cell_type": "markdown",
   "source": [
    "#### 7. Calculate the potential arbitrage profits that you can make on each day. To do so, sum the elements in the profit_per_trade DataFrame."
   ],
   "metadata": {}
  },
  {
   "cell_type": "code",
   "execution_count": null,
   "source": [
    "# Calculate the sum of the potential profits for the early profit per trade DataFrame\r\n",
    "\r\n",
    "print(f'The total profit made for the early arbitrage = {round(profit_per_trade_early.sum(),2)}')"
   ],
   "outputs": [],
   "metadata": {}
  },
  {
   "cell_type": "code",
   "execution_count": null,
   "source": [
    "# Calculate the sum of the potential profits for the middle profit per trade DataFrame\r\n",
    "print(f'The total profit made for the middle arbitrage = {round(profit_per_trade_middle.sum(),2)}')"
   ],
   "outputs": [],
   "metadata": {}
  },
  {
   "cell_type": "code",
   "execution_count": null,
   "source": [
    "# Calculate the sum of the potential profits for the late profit per trade DataFrame\r\n",
    "print(f'The total profit made for the late arbitrage = {round(profit_per_trade_late.sum(),2)}')"
   ],
   "outputs": [],
   "metadata": {}
  },
  {
   "cell_type": "markdown",
   "source": [
    "#### 8. Using the `cumsum` function, plot the cumulative sum of each of the three DataFrames. Can you identify any patterns or trends in the profits across the three time periods?"
   ],
   "metadata": {}
  },
  {
   "cell_type": "code",
   "execution_count": null,
   "source": [
    "# Use the cumsum function to calculate the cumulative profits over time for the early profit per trade DataFrame\r\n",
    "cumulative_profit_early =  profit_per_trade_early.cumsum()\r\n",
    "\r\n",
    "cumulative_profit_middle =  profit_per_trade_middle.cumsum()\r\n",
    "\r\n",
    "cumulative_profit_late =  profit_per_trade_late.cumsum()\r\n"
   ],
   "outputs": [],
   "metadata": {}
  },
  {
   "cell_type": "code",
   "execution_count": null,
   "source": [
    "# Plot the cumulative sum of profits for the early profit per trade DataFrame\r\n",
    "fig, (ax1, ax2, ax3) = plt.subplots(3, figsize=(17,10))\r\n",
    "plt.subplots_adjust(hspace=.45)\r\n",
    "\r\n",
    "ax1.plot(cumulative_profit_early, color='blue')\r\n",
    "\r\n",
    "ax2.plot(cumulative_profit_middle, color='red')\r\n",
    "\r\n",
    "ax3.plot(cumulative_profit_late, color='green')\r\n",
    "\r\n",
    "ax1.legend(['Early Arbitrage: 1/28/2018'],loc=\"upper left\")\r\n",
    "ax2.legend(['Middle Arbitrage: 2/24/2018'],loc=\"upper left\")\r\n",
    "ax3.legend(['Late Arbitrage: 3/14/2018'],loc=\"upper left\")\r\n",
    "\r\n",
    "ax1.set_title('Early Arbitrage')\r\n",
    "ax2.set_title('Middle Arbitrage')\r\n",
    "ax3.set_title('Late Arbitrage')\r\n",
    "\r\n",
    "ax1.grid(True)\r\n",
    "ax2.grid(True)\r\n",
    "ax3.grid(True)\r\n",
    "\r\n",
    "ax1.set_xlabel('TimeStamp (Date MM-dd hh)')\r\n",
    "ax1.set_ylabel('Cumulative Profits $')\r\n",
    "\r\n",
    "ax2.set_xlabel('TimeStamp (Date dd hh:mm)')\r\n",
    "ax2.set_ylabel('Cumulative Profits $')\r\n",
    "\r\n",
    "ax3.set_xlabel('TimeStamp (hh:mm:ss)')\r\n",
    "ax3.set_ylabel('Cumulative Profits $')\r\n",
    "\r\n",
    "## Instead of creating 3 separate outputs I decided to combine all 3 outputs into a singular image that would make it easier (in my opinion) to digest\r\n",
    "## To accomplish this I needed to create a figure with 3 attributes and pass in my variable to those attributes to be plotted\r\n",
    "## Once plotted I could then customize each line graph's grid, xlabel, ylable, title, legend, and color. \r\n",
    "## One thing that I though was cool was the ability to adjust the spacing between graphs using plt.suplots_adjust(hspace=''). This allowed me to customize the labeling with minimal overlay or confusion\r\n"
   ],
   "outputs": [],
   "metadata": {}
  },
  {
   "cell_type": "markdown",
   "source": [
    "**Question:** After reviewing the profit information across each date from the different time periods, can you identify any patterns or trends?\r\n",
    "    \r\n",
    "**Answer:** After the initial big arbitrage at the beginning of the dataset on 1/28/2018 opportunities for Arbitrage became scarce the further away from that event you got. By the time we made it to the month of March we were only finding a handful of opportunities after combing through the data with a magnifying glass, and each opportunity only lasted for a short amount of time. "
   ],
   "metadata": {}
  },
  {
   "cell_type": "code",
   "execution_count": null,
   "source": [],
   "outputs": [],
   "metadata": {}
  }
 ],
 "metadata": {
  "interpreter": {
   "hash": "495ccf4d1983483e4ef5ecb604ad059e9e63ef3705f6ce6119008c8aa5b25d48"
  },
  "kernelspec": {
   "display_name": "Python 3.7.9 64-bit ('dev': conda)",
   "name": "python3"
  },
  "language_info": {
   "codemirror_mode": {
    "name": "ipython",
    "version": 3
   },
   "file_extension": ".py",
   "mimetype": "text/x-python",
   "name": "python",
   "nbconvert_exporter": "python",
   "pygments_lexer": "ipython3",
   "version": "3.7.9"
  }
 },
 "nbformat": 4,
 "nbformat_minor": 4
}